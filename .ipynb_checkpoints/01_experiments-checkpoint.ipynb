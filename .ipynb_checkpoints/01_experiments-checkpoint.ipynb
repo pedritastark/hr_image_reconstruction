{
 "cells": [
  {
   "cell_type": "code",
   "execution_count": null,
   "id": "8cd7bec5-1eaa-4ea6-af09-9c855b14333f",
   "metadata": {},
   "outputs": [
    {
     "name": "stdout",
     "output_type": "stream",
     "text": [
      "\n",
      "Usage:   \n",
      "  pip install [options] <requirement specifier> [package-index-options] ...\n",
      "  pip install [options] -r <requirements file> [package-index-options] ...\n",
      "  pip install [options] [-e] <vcs project url> ...\n",
      "  pip install [options] [-e] <local project path> ...\n",
      "  pip install [options] <archive url/path> ...\n",
      "\n",
      "no such option: --upgrgade\n",
      "Requirement already satisfied: numpy in /Users/sebastianpedraza/.platformio/penv/lib/python3.11/site-packages (2.2.5)\n",
      "\n",
      "\u001b[1m[\u001b[0m\u001b[34;49mnotice\u001b[0m\u001b[1;39;49m]\u001b[0m\u001b[39;49m A new release of pip is available: \u001b[0m\u001b[31;49m25.0.1\u001b[0m\u001b[39;49m -> \u001b[0m\u001b[32;49m25.1\u001b[0m\n",
      "\u001b[1m[\u001b[0m\u001b[34;49mnotice\u001b[0m\u001b[1;39;49m]\u001b[0m\u001b[39;49m To update, run: \u001b[0m\u001b[32;49mpip install --upgrade pip\u001b[0m\n",
      "Requirement already satisfied: matplotlib in /Users/sebastianpedraza/.platformio/penv/lib/python3.11/site-packages (3.10.1)\n",
      "Requirement already satisfied: contourpy>=1.0.1 in /Users/sebastianpedraza/.platformio/penv/lib/python3.11/site-packages (from matplotlib) (1.3.2)\n",
      "Requirement already satisfied: cycler>=0.10 in /Users/sebastianpedraza/.platformio/penv/lib/python3.11/site-packages (from matplotlib) (0.12.1)\n",
      "Requirement already satisfied: fonttools>=4.22.0 in /Users/sebastianpedraza/.platformio/penv/lib/python3.11/site-packages (from matplotlib) (4.57.0)\n",
      "Requirement already satisfied: kiwisolver>=1.3.1 in /Users/sebastianpedraza/.platformio/penv/lib/python3.11/site-packages (from matplotlib) (1.4.8)\n",
      "Requirement already satisfied: numpy>=1.23 in /Users/sebastianpedraza/.platformio/penv/lib/python3.11/site-packages (from matplotlib) (2.2.5)\n",
      "Requirement already satisfied: packaging>=20.0 in /Users/sebastianpedraza/.platformio/penv/lib/python3.11/site-packages (from matplotlib) (24.2)\n",
      "Requirement already satisfied: pillow>=8 in /Users/sebastianpedraza/.platformio/penv/lib/python3.11/site-packages (from matplotlib) (11.2.1)\n",
      "Requirement already satisfied: pyparsing>=2.3.1 in /Users/sebastianpedraza/.platformio/penv/lib/python3.11/site-packages (from matplotlib) (3.2.3)\n",
      "Requirement already satisfied: python-dateutil>=2.7 in /Users/sebastianpedraza/.platformio/penv/lib/python3.11/site-packages (from matplotlib) (2.9.0.post0)\n",
      "Requirement already satisfied: six>=1.5 in /Users/sebastianpedraza/.platformio/penv/lib/python3.11/site-packages (from python-dateutil>=2.7->matplotlib) (1.17.0)\n",
      "\n",
      "\u001b[1m[\u001b[0m\u001b[34;49mnotice\u001b[0m\u001b[1;39;49m]\u001b[0m\u001b[39;49m A new release of pip is available: \u001b[0m\u001b[31;49m25.0.1\u001b[0m\u001b[39;49m -> \u001b[0m\u001b[32;49m25.1\u001b[0m\n",
      "\u001b[1m[\u001b[0m\u001b[34;49mnotice\u001b[0m\u001b[1;39;49m]\u001b[0m\u001b[39;49m To update, run: \u001b[0m\u001b[32;49mpip install --upgrade pip\u001b[0m\n",
      "Collecting scikit-image\n",
      "  Downloading scikit_image-0.25.2-cp311-cp311-macosx_12_0_arm64.whl.metadata (14 kB)\n",
      "Requirement already satisfied: numpy>=1.24 in /Users/sebastianpedraza/.platformio/penv/lib/python3.11/site-packages (from scikit-image) (2.2.5)\n",
      "Collecting scipy>=1.11.4 (from scikit-image)\n",
      "  Downloading scipy-1.15.2-cp311-cp311-macosx_14_0_arm64.whl.metadata (61 kB)\n",
      "Collecting networkx>=3.0 (from scikit-image)\n",
      "  Downloading networkx-3.4.2-py3-none-any.whl.metadata (6.3 kB)\n",
      "Requirement already satisfied: pillow>=10.1 in /Users/sebastianpedraza/.platformio/penv/lib/python3.11/site-packages (from scikit-image) (11.2.1)\n",
      "Collecting imageio!=2.35.0,>=2.33 (from scikit-image)\n",
      "  Downloading imageio-2.37.0-py3-none-any.whl.metadata (5.2 kB)\n",
      "Collecting tifffile>=2022.8.12 (from scikit-image)\n",
      "  Downloading tifffile-2025.3.30-py3-none-any.whl.metadata (32 kB)\n",
      "Requirement already satisfied: packaging>=21 in /Users/sebastianpedraza/.platformio/penv/lib/python3.11/site-packages (from scikit-image) (24.2)\n",
      "Collecting lazy-loader>=0.4 (from scikit-image)\n",
      "  Downloading lazy_loader-0.4-py3-none-any.whl.metadata (7.6 kB)\n",
      "Downloading scikit_image-0.25.2-cp311-cp311-macosx_12_0_arm64.whl (13.2 MB)\n",
      "\u001b[2K   \u001b[90m━━━━━━━━━━━━━━━━━━━━━━━━━━━━━━━━━━━━━━━━\u001b[0m \u001b[32m13.2/13.2 MB\u001b[0m \u001b[31m368.9 kB/s\u001b[0m eta \u001b[36m0:00:00\u001b[0m00:01\u001b[0m00:01\u001b[0m\n",
      "\u001b[?25hDownloading imageio-2.37.0-py3-none-any.whl (315 kB)\n",
      "Downloading lazy_loader-0.4-py3-none-any.whl (12 kB)\n",
      "Downloading networkx-3.4.2-py3-none-any.whl (1.7 MB)\n",
      "\u001b[2K   \u001b[90m━━━━━━━━━━━━━━━━━━━━━━━━━━━━━━━━━━━━━━━━\u001b[0m \u001b[32m1.7/1.7 MB\u001b[0m \u001b[31m368.8 kB/s\u001b[0m eta \u001b[36m0:00:00\u001b[0ma \u001b[36m0:00:01\u001b[0m\n",
      "\u001b[?25hDownloading scipy-1.15.2-cp311-cp311-macosx_14_0_arm64.whl (22.4 MB)\n",
      "\u001b[2K   \u001b[91m━━━━━━━━━━━━━━━━━━━━━━━━\u001b[0m\u001b[90m╺\u001b[0m\u001b[90m━━━━━━━━━━━━━━━\u001b[0m \u001b[32m13.6/22.4 MB\u001b[0m \u001b[31m369.7 kB/s\u001b[0m eta \u001b[36m0:00:24\u001b[0m"
     ]
    }
   ],
   "source": [
    "# notebooks/01_experiments.ipynb\n",
    "!pip install --upgrgade pip\n",
    "!pip install numpy\n",
    "!pip install matplotlib\n",
    "!pip install scikit-image"
   ]
  },
  {
   "cell_type": "code",
   "execution_count": null,
   "id": "74a1af9e-298c-40fd-84a0-7d1030053b78",
   "metadata": {},
   "outputs": [],
   "source": [
    "import numpy as np\n",
    "import matplotlib.pyplot as plt\n",
    "from src.io.image_io import load_image\n",
    "from src.interpolation.bilinear import bilinear_interpolate\n",
    "from src.interpolation.bicubic import bicubic_interpolate\n",
    "from src.metrics.psnr import psnr\n",
    "from src.metrics.ssim import ssim\n",
    "\n",
    "RAW_DIR = \"data/raw\"\n",
    "DS_DIR  = \"data/downsampled\""
   ]
  },
  {
   "cell_type": "code",
   "execution_count": null,
   "id": "11bb1643-2b8a-4ce5-92f0-ef6c1a808940",
   "metadata": {},
   "outputs": [],
   "source": [
    "img_hr = load_image(f\"{RAW_DIR}/retina.png\")\n",
    "img_lr = load_image(f\"{DS_DIR}/retina.png\")\n",
    "plt.figure(figsize=(8,4))\n",
    "plt.subplot(1,2,1); plt.title(\"Original\"); plt.axis('off'); plt.imshow(img_hr, cmap='gray')\n",
    "plt.subplot(1,2,2); plt.title(\"Downsampled\"); plt.axis('off'); plt.imshow(img_lr, cmap='gray')"
   ]
  },
  {
   "cell_type": "code",
   "execution_count": null,
   "id": "e8f1c087-d8be-4947-87cb-880ce248c0f1",
   "metadata": {},
   "outputs": [],
   "source": [
    "alpha = img_hr.shape[0] / img_lr.shape[0]  # debería ser 2.0\n",
    "rec_bilin  = bilinear_interpolate(img_lr, alpha)\n",
    "rec_bicub  = bicubic_interpolate(img_lr, alpha)psnr_bilin = psnr(img_hr, rec_bilin)\n",
    "psnr_bicub = psnr(img_hr, rec_bicub)\n",
    "ssim_bilin = ssim(img_hr, rec_bilin)\n",
    "ssim_bicub = ssim(img_hr, rec_bicub)\n",
    "\n",
    "print(f\"PSNR bilineal: {psnr_bilin:.2f} dB\")\n",
    "print(f\"PSNR bicúbico: {psnr_bicub:.2f} dB\")\n",
    "print(f\"SSIM bilineal: {ssim_bilin:.4f}\")\n",
    "print(f\"SSIM bicúbico: {ssim_bicub:.4f}\")"
   ]
  },
  {
   "cell_type": "code",
   "execution_count": null,
   "id": "70f5fe28-cc00-4e86-bfc8-c76df31b91eb",
   "metadata": {},
   "outputs": [],
   "source": [
    "fig, axes = plt.subplots(1,3, figsize=(12,4))\n",
    "for ax, im, title in zip(axes, [img_hr, rec_bilin, rec_bicub],\n",
    "                         [\"Original\", \"Bilineal\", \"Bicúbico\"]):\n",
    "    ax.imshow(im, cmap='gray'); ax.set_title(title); ax.axis('off')\n",
    "plt.tight_layout()"
   ]
  },
  {
   "cell_type": "code",
   "execution_count": null,
   "id": "ad7cb180-3d54-4c1b-a9a7-61c4b0cc8e6f",
   "metadata": {},
   "outputs": [],
   "source": [
    "import pandas as pd\n",
    "df = pd.DataFrame({\n",
    "    \"Método\":   [\"Bilineal\", \"Bicúbico\"],\n",
    "    \"PSNR (dB)\": [psnr_bilin, psnr_bicub],\n",
    "    \"SSIM\":      [ssim_bilin, ssim_bicub]\n",
    "})\n",
    "df"
   ]
  },
  {
   "cell_type": "code",
   "execution_count": null,
   "id": "0fa65a3a-c271-48fd-b66c-fae77cd6195c",
   "metadata": {},
   "outputs": [],
   "source": []
  }
 ],
 "metadata": {
  "kernelspec": {
   "display_name": "Python 3 (ipykernel)",
   "language": "python",
   "name": "python3"
  },
  "language_info": {
   "codemirror_mode": {
    "name": "ipython",
    "version": 3
   },
   "file_extension": ".py",
   "mimetype": "text/x-python",
   "name": "python",
   "nbconvert_exporter": "python",
   "pygments_lexer": "ipython3",
   "version": "3.11.7"
  }
 },
 "nbformat": 4,
 "nbformat_minor": 5
}
